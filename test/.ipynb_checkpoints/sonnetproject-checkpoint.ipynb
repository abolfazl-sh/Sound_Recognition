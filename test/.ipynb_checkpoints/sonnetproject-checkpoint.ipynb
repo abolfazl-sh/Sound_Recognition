{
 "cells": [
  {
   "cell_type": "code",
   "execution_count": 2,
   "metadata": {},
   "outputs": [
    {
     "name": "stdout",
     "output_type": "stream",
     "text": [
      "Populating the interactive namespace from numpy and matplotlib\n"
     ]
    }
   ],
   "source": [
    "%pylab inline\n",
    "from PIL import Image\n",
    "import os \n",
    "import numpy as np\n",
    "#install pandas\n",
    "import pandas as pd\n",
    "#it should be \"from scipy.misc import imread\"\n",
    "from matplotlib.pyplot import imread\n",
    "from sklearn.metrics import accuracy_score\n",
    "import sys\n",
    "import tensorflow as tf\n",
    "import sonnet as snt\n",
    "\n",
    "from sklearn.preprocessing import LabelBinarizer\n",
    "import keras\n",
    "from keras.datasets import mnist\n",
    "from keras.models import Sequential\n",
    "from keras.layers import Dense, Dropout, Flatten\n",
    "from keras.layers import Conv2D, MaxPooling2D\n",
    "from keras import backend as K\n",
    "from keras.preprocessing.image import image\n",
    "from keras.utils import to_categorical"
   ]
  },
  {
   "cell_type": "code",
   "execution_count": 3,
   "metadata": {},
   "outputs": [],
   "source": [
    "#if you need seed\n",
    "seed = 0\n",
    "rng = np.random.RandomState(seed)\n"
   ]
  },
  {
   "cell_type": "code",
   "execution_count": 4,
   "metadata": {},
   "outputs": [
    {
     "data": {
      "text/plain": [
       "True"
      ]
     },
     "execution_count": 4,
     "metadata": {},
     "output_type": "execute_result"
    }
   ],
   "source": [
    "root_dir = os.path.abspath('.')\n",
    "data_dir = os.path.join(root_dir,'data')\n",
    "image_dir = os.path.join(root_dir,'images')\n",
    "test_dir = os.path.join(root_dir,'test')\n",
    "\n",
    "os.path.exists(root_dir)\n",
    "os.path.exists(data_dir)\n",
    "os.path.exists(image_dir)"
   ]
  },
  {
   "cell_type": "code",
   "execution_count": 5,
   "metadata": {},
   "outputs": [
    {
     "data": {
      "text/html": [
       "<div>\n",
       "<style scoped>\n",
       "    .dataframe tbody tr th:only-of-type {\n",
       "        vertical-align: middle;\n",
       "    }\n",
       "\n",
       "    .dataframe tbody tr th {\n",
       "        vertical-align: top;\n",
       "    }\n",
       "\n",
       "    .dataframe thead th {\n",
       "        text-align: right;\n",
       "    }\n",
       "</style>\n",
       "<table border=\"1\" class=\"dataframe\">\n",
       "  <thead>\n",
       "    <tr style=\"text-align: right;\">\n",
       "      <th></th>\n",
       "      <th>ID</th>\n",
       "      <th>Class</th>\n",
       "    </tr>\n",
       "  </thead>\n",
       "  <tbody>\n",
       "    <tr>\n",
       "      <th>0</th>\n",
       "      <td>0</td>\n",
       "      <td>siren</td>\n",
       "    </tr>\n",
       "    <tr>\n",
       "      <th>1</th>\n",
       "      <td>1</td>\n",
       "      <td>street_music</td>\n",
       "    </tr>\n",
       "    <tr>\n",
       "      <th>2</th>\n",
       "      <td>2</td>\n",
       "      <td>drilling</td>\n",
       "    </tr>\n",
       "    <tr>\n",
       "      <th>3</th>\n",
       "      <td>3</td>\n",
       "      <td>siren</td>\n",
       "    </tr>\n",
       "    <tr>\n",
       "      <th>4</th>\n",
       "      <td>6</td>\n",
       "      <td>children_playing</td>\n",
       "    </tr>\n",
       "  </tbody>\n",
       "</table>\n",
       "</div>"
      ],
      "text/plain": [
       "   ID             Class\n",
       "0   0             siren\n",
       "1   1      street_music\n",
       "2   2          drilling\n",
       "3   3             siren\n",
       "4   6  children_playing"
      ]
     },
     "execution_count": 5,
     "metadata": {},
     "output_type": "execute_result"
    }
   ],
   "source": [
    "train = pd.read_csv(os.path.join(data_dir, 'train.csv'))\n",
    "test = pd.read_csv(os.path.join(data_dir, 'test.csv'))\n",
    "train.head()\n"
   ]
  },
  {
   "cell_type": "code",
   "execution_count": 6,
   "metadata": {},
   "outputs": [
    {
     "name": "stdout",
     "output_type": "stream",
     "text": [
      "(180, 180, 3)\n"
     ]
    },
    {
     "data": {
      "image/png": "[encoded data removed]",
      "text/plain": [
       "<Figure size 432x288 with 1 Axes>"
      ]
     },
     "metadata": {
      "needs_background": "light"
     },
     "output_type": "display_data"
    }
   ],
   "source": [
    "img_name = rng.choice(train.ID)\n",
    "filepath = os.path.join(image_dir, (str(img_name) + '.png'))\n",
    "img = imread(filepath)\n",
    "\n",
    "#in testing part, don't touch it.\n",
    "im = Image.open(filepath)\n",
    "rgb_im = im.convert('RGB')\n",
    "print(img.shape)\n",
    "pylab.imshow(img)\n",
    "pylab.axis('off')\n",
    "pylab.show()\n"
   ]
  },
  {
   "cell_type": "code",
   "execution_count": 7,
   "metadata": {},
   "outputs": [
    {
     "data": {
      "text/plain": [
       "\"for imagename in test.ID:\\n    if imagename != 4 and imagename != 3190 and imagename != 8542:\\n        temp.append(imread(os.path.join(image_dir, (str(imagename) + '.png'))))\\ntest_x = np.stack(temp)\""
      ]
     },
     "execution_count": 7,
     "metadata": {},
     "output_type": "execute_result"
    }
   ],
   "source": [
    "temp = []\n",
    "for imagename in train.ID:\n",
    "    if imagename != 4 and imagename != 3190 and imagename != 8542:\n",
    "        image_path = os.path.join(image_dir,(str(imagename) + '.png'))\n",
    "        img = imread(image_path)\n",
    "        img = img.astype('float32')\n",
    "        img = imread(image_path)\n",
    "        temp.append(img)\n",
    "\n",
    "train_x = np.stack(temp)\n",
    "\n",
    "temp = []\n",
    "\"\"\"for imagename in test.ID:\n",
    "    if imagename != 4 and imagename != 3190 and imagename != 8542:\n",
    "        temp.append(imread(os.path.join(image_dir, (str(imagename) + '.png'))))\n",
    "test_x = np.stack(temp)\"\"\"\n",
    "\n",
    "    "
   ]
  },
  {
   "cell_type": "code",
   "execution_count": 8,
   "metadata": {},
   "outputs": [
    {
     "name": "stdout",
     "output_type": "stream",
     "text": [
      "[[0 0 0 0 0 0 0 1 0 0]\n",
      " [0 0 0 0 1 0 0 0 0 0]\n",
      " [0 0 0 1 0 0 0 0 0 0]\n",
      " [0 0 0 0 0 0 0 1 0 0]\n",
      " [0 0 0 0 0 0 0 1 0 0]\n",
      " [0 0 0 0 1 0 0 0 0 0]\n",
      " [0 1 0 0 0 0 0 0 0 0]\n",
      " [0 0 0 0 0 0 0 0 1 0]\n",
      " [0 0 1 0 0 0 0 0 0 0]\n",
      " [0 0 0 0 0 0 0 1 0 0]\n",
      " [0 0 0 0 0 0 0 0 1 0]\n",
      " [0 0 0 1 0 0 0 0 0 0]\n",
      " [0 0 0 0 0 0 0 0 1 0]\n",
      " [0 0 0 1 0 0 0 0 0 0]\n",
      " [0 0 0 1 0 0 0 0 0 0]\n",
      " [1 0 0 0 0 0 0 0 0 0]\n",
      " [0 0 0 1 0 0 0 0 0 0]\n",
      " [0 0 0 0 1 0 0 0 0 0]\n",
      " [0 0 0 1 0 0 0 0 0 0]\n",
      " [0 0 0 0 0 1 0 0 0 0]\n",
      " [0 0 1 0 0 0 0 0 0 0]\n",
      " [0 0 1 0 0 0 0 0 0 0]\n",
      " [0 0 0 0 0 0 1 0 0 0]\n",
      " [0 1 0 0 0 0 0 0 0 0]\n",
      " [0 0 0 0 0 0 0 1 0 0]\n",
      " [0 0 0 0 1 0 0 0 0 0]\n",
      " [0 0 0 0 0 0 0 0 1 0]\n",
      " [0 0 0 0 0 0 0 1 0 0]\n",
      " [0 0 0 0 0 0 0 0 0 1]\n",
      " [0 0 0 0 0 1 0 0 0 0]\n",
      " [0 0 0 0 1 0 0 0 0 0]\n",
      " [0 0 0 0 0 1 0 0 0 0]\n",
      " [0 0 1 0 0 0 0 0 0 0]\n",
      " [1 0 0 0 0 0 0 0 0 0]\n",
      " [1 0 0 0 0 0 0 0 0 0]\n",
      " [0 0 0 1 0 0 0 0 0 0]\n",
      " [0 0 1 0 0 0 0 0 0 0]\n",
      " [0 0 0 0 0 0 0 1 0 0]]\n",
      "87\n",
      "87\n",
      "38\n",
      "87\n",
      "38\n",
      "125\n"
     ]
    }
   ],
   "source": [
    "split_size = int(train_x.shape[0] * 0.7)\n",
    "train_x, val_x = train_x[:split_size], train_x[split_size:]\n",
    "encoder = LabelBinarizer()\n",
    "temp = encoder.fit_transform(train.Class.values)\n",
    "#train_y, val_y = encoder.fit_transform(train.Class.values[:split_size]), encoder.fit_transform(train.Class.values[split_size:])\n",
    "train_y, val_y = temp[:split_size], temp[split_size:]\n",
    "print(val_y)\n",
    "print(train_x.shape[0])\n",
    "print(train_x.shape[0])\n",
    "print(val_x.shape[0])\n",
    "print(train_y.shape[0])\n",
    "print(val_y.shape[0])\n",
    "print(train.Class.size)"
   ]
  },
  {
   "cell_type": "code",
   "execution_count": 9,
   "metadata": {},
   "outputs": [
    {
     "name": "stderr",
     "output_type": "stream",
     "text": [
      "W0822 18:39:47.693768  2808 deprecation_wrapper.py:119] From c:\\users\\aaa\\appdata\\local\\programs\\python\\python37\\lib\\site-packages\\keras\\backend\\tensorflow_backend.py:74: The name tf.get_default_graph is deprecated. Please use tf.compat.v1.get_default_graph instead.\n",
      "\n",
      "W0822 18:39:47.892779  2808 deprecation_wrapper.py:119] From c:\\users\\aaa\\appdata\\local\\programs\\python\\python37\\lib\\site-packages\\keras\\backend\\tensorflow_backend.py:517: The name tf.placeholder is deprecated. Please use tf.compat.v1.placeholder instead.\n",
      "\n",
      "W0822 18:39:48.001785  2808 deprecation_wrapper.py:119] From c:\\users\\aaa\\appdata\\local\\programs\\python\\python37\\lib\\site-packages\\keras\\backend\\tensorflow_backend.py:4138: The name tf.random_uniform is deprecated. Please use tf.random.uniform instead.\n",
      "\n",
      "W0822 18:39:48.193796  2808 deprecation_wrapper.py:119] From c:\\users\\aaa\\appdata\\local\\programs\\python\\python37\\lib\\site-packages\\keras\\backend\\tensorflow_backend.py:3976: The name tf.nn.max_pool is deprecated. Please use tf.nn.max_pool2d instead.\n",
      "\n",
      "W0822 18:39:48.263800  2808 deprecation_wrapper.py:119] From c:\\users\\aaa\\appdata\\local\\programs\\python\\python37\\lib\\site-packages\\keras\\backend\\tensorflow_backend.py:133: The name tf.placeholder_with_default is deprecated. Please use tf.compat.v1.placeholder_with_default instead.\n",
      "\n",
      "W0822 18:39:48.271800  2808 deprecation.py:506] From c:\\users\\aaa\\appdata\\local\\programs\\python\\python37\\lib\\site-packages\\keras\\backend\\tensorflow_backend.py:3445: calling dropout (from tensorflow.python.ops.nn_ops) with keep_prob is deprecated and will be removed in a future version.\n",
      "Instructions for updating:\n",
      "Please use `rate` instead of `keep_prob`. Rate should be set to `rate = 1 - keep_prob`.\n",
      "W0822 18:39:48.380807  2808 deprecation_wrapper.py:119] From c:\\users\\aaa\\appdata\\local\\programs\\python\\python37\\lib\\site-packages\\keras\\optimizers.py:790: The name tf.train.Optimizer is deprecated. Please use tf.compat.v1.train.Optimizer instead.\n",
      "\n",
      "W0822 18:39:48.631821  2808 deprecation.py:323] From c:\\users\\aaa\\appdata\\local\\programs\\python\\python37\\lib\\site-packages\\tensorflow\\python\\ops\\math_grad.py:1250: add_dispatch_support.<locals>.wrapper (from tensorflow.python.ops.array_ops) is deprecated and will be removed in a future version.\n",
      "Instructions for updating:\n",
      "Use tf.where in 2.0, which has the same broadcast rule as np.where\n"
     ]
    },
    {
     "name": "stdout",
     "output_type": "stream",
     "text": [
      "Train on 87 samples, validate on 38 samples\n",
      "Epoch 1/20\n",
      "87/87 [==============================] - 5s 53ms/step - loss: 11.0825 - acc: 0.1494 - val_loss: 15.6939 - val_acc: 0.0263\n",
      "Epoch 2/20\n",
      "87/87 [==============================] - 3s 35ms/step - loss: 13.8502 - acc: 0.1379 - val_loss: 11.3697 - val_acc: 0.1842\n",
      "Epoch 3/20\n",
      "87/87 [==============================] - 3s 35ms/step - loss: 4.2263 - acc: 0.2069 - val_loss: 2.0715 - val_acc: 0.2632\n",
      "Epoch 4/20\n",
      "87/87 [==============================] - 3s 36ms/step - loss: 2.1011 - acc: 0.2874 - val_loss: 2.0718 - val_acc: 0.2105\n",
      "Epoch 5/20\n",
      "87/87 [==============================] - 3s 36ms/step - loss: 1.8579 - acc: 0.3563 - val_loss: 1.8719 - val_acc: 0.2632\n",
      "Epoch 6/20\n",
      "87/87 [==============================] - 3s 34ms/step - loss: 1.6823 - acc: 0.4598 - val_loss: 2.3888 - val_acc: 0.1579\n",
      "Epoch 7/20\n",
      "87/87 [==============================] - 3s 34ms/step - loss: 1.6101 - acc: 0.5057 - val_loss: 1.8953 - val_acc: 0.3947\n",
      "Epoch 8/20\n",
      "87/87 [==============================] - 3s 34ms/step - loss: 1.3724 - acc: 0.5172 - val_loss: 1.7280 - val_acc: 0.3947\n",
      "Epoch 9/20\n",
      "87/87 [==============================] - 3s 34ms/step - loss: 1.0671 - acc: 0.6897 - val_loss: 3.5203 - val_acc: 0.2895\n",
      "Epoch 10/20\n",
      "87/87 [==============================] - 3s 35ms/step - loss: 1.0640 - acc: 0.6437 - val_loss: 2.1146 - val_acc: 0.3158\n",
      "Epoch 11/20\n",
      "87/87 [==============================] - 3s 34ms/step - loss: 0.7914 - acc: 0.7586 - val_loss: 2.0705 - val_acc: 0.2632\n",
      "Epoch 12/20\n",
      "87/87 [==============================] - 3s 34ms/step - loss: 0.6540 - acc: 0.8276 - val_loss: 3.2226 - val_acc: 0.2632\n",
      "Epoch 13/20\n",
      "87/87 [==============================] - 3s 34ms/step - loss: 0.8505 - acc: 0.7356 - val_loss: 1.8168 - val_acc: 0.3947\n",
      "Epoch 14/20\n",
      "87/87 [==============================] - 3s 35ms/step - loss: 0.3844 - acc: 0.9080 - val_loss: 2.8954 - val_acc: 0.5000\n",
      "Epoch 15/20\n",
      "87/87 [==============================] - 3s 35ms/step - loss: 0.4138 - acc: 0.9195 - val_loss: 2.7006 - val_acc: 0.2632\n",
      "Epoch 16/20\n",
      "87/87 [==============================] - 3s 35ms/step - loss: 0.3167 - acc: 0.8966 - val_loss: 1.9377 - val_acc: 0.4737\n",
      "Epoch 17/20\n",
      "87/87 [==============================] - 3s 34ms/step - loss: 0.1930 - acc: 0.9770 - val_loss: 2.7533 - val_acc: 0.3421\n",
      "Epoch 18/20\n",
      "87/87 [==============================] - 3s 35ms/step - loss: 0.1498 - acc: 0.9770 - val_loss: 2.3501 - val_acc: 0.5000\n",
      "Epoch 19/20\n",
      "87/87 [==============================] - 3s 34ms/step - loss: 0.0972 - acc: 0.9885 - val_loss: 2.5274 - val_acc: 0.4474\n",
      "Epoch 20/20\n",
      "87/87 [==============================] - 3s 34ms/step - loss: 0.0562 - acc: 1.0000 - val_loss: 3.9057 - val_acc: 0.2895\n"
     ]
    },
    {
     "data": {
      "text/plain": [
       "\"score = model.evaluate(x_test, y_test, verbose = 0)\\nprint('Test loss :', score[0])\\nprint('Test accuracy : ', score[1])\""
      ]
     },
     "execution_count": 9,
     "metadata": {},
     "output_type": "execute_result"
    }
   ],
   "source": [
    "#batch_size = 500\n",
    "batch_size = 20\n",
    "epochs = 20\n",
    "num_classes = 10\n",
    "\n",
    "img_rows, img_cols = 180, 180\n",
    "\n",
    "if K.image_data_format() == 'channels_first':\n",
    "    train_x = train_x.reshape(train_x.shape[0], 3, img_rows, img_cols)\n",
    "    val_x = val_x.reshape(val_x.shape[0], 3, img_rows, img_cols)\n",
    "    input_shape = (1, img_rows, img_cols)\n",
    "else:\n",
    "    train_x = train_x.reshape(train_x.shape[0], img_rows, img_cols, 3)\n",
    "    val_x = val_x.reshape(val_x.shape[0], img_rows, img_cols, 3)\n",
    "    input_shape = (img_rows, img_cols, 3)\n",
    "\n",
    "model = Sequential()\n",
    "model.add(Conv2D(32, kernel_size=(3, 3),\n",
    "                activation = 'relu',\n",
    "                input_shape = input_shape))\n",
    "model.add(MaxPooling2D(pool_size = (2, 2)))\n",
    "\n",
    "model.add(Conv2D(64, (3, 3), activation = 'relu'))\n",
    "model.add(MaxPooling2D(pool_size = (2, 2)))\n",
    "model.add(Dropout(0.5))\n",
    "model.add(Flatten())\n",
    "model.add(Dense(128, activation = 'relu'))\n",
    "model.add(Dense(10, activation='softmax'))\n",
    "\n",
    "model.compile(loss = keras.losses.categorical_crossentropy,\n",
    "             optimizer = keras.optimizers.RMSprop()\n",
    "             ,metrics=['accuracy'])\n",
    "model.fit(train_x, train_y,\n",
    "         batch_size = batch_size,\n",
    "         epochs = epochs,\n",
    "         verbose = 1,\n",
    "         validation_data = (val_x, val_y))\n",
    "\"\"\"score = model.evaluate(x_test, y_test, verbose = 0)\n",
    "print('Test loss :', score[0])\n",
    "print('Test accuracy : ', score[1])\"\"\"\n"
   ]
  },
  {
   "cell_type": "code",
   "execution_count": null,
   "metadata": {},
   "outputs": [],
   "source": []
  }
 ],
 "metadata": {
  "kernelspec": {
   "display_name": "Python 3",
   "language": "python",
   "name": "python3"
  },
  "language_info": {
   "codemirror_mode": {
    "name": "ipython",
    "version": 3
   },
   "file_extension": ".py",
   "mimetype": "text/x-python",
   "name": "python",
   "nbconvert_exporter": "python",
   "pygments_lexer": "ipython3",
   "version": "3.7.3"
  }
 },
 "nbformat": 4,
 "nbformat_minor": 2
}
